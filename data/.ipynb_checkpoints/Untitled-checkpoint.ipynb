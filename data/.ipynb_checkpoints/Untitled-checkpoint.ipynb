{
 "cells": [
  {
   "cell_type": "code",
   "execution_count": 2,
   "id": "92efe9fb-0bbf-4125-aedd-8088bf32996e",
   "metadata": {},
   "outputs": [],
   "source": [
    "try:\n",
    "    import bagpy as bp\n",
    "except ImportError:\n",
    "    print(\"bagpy is not installed\")"
   ]
  },
  {
   "cell_type": "code",
   "execution_count": 3,
   "id": "4f28f1e3-eebd-4741-9657-01d5bd1a034b",
   "metadata": {},
   "outputs": [
    {
     "data": {
      "text/plain": [
       "<module 'bagpy' from '/Users/pitosalas/.pyenv/versions/3.12.0/lib/python3.12/site-packages/bagpy/__init__.py'>"
      ]
     },
     "execution_count": 3,
     "metadata": {},
     "output_type": "execute_result"
    }
   ],
   "source": [
    "bp"
   ]
  },
  {
   "cell_type": "code",
   "execution_count": 4,
   "id": "bae1531f-c55f-4cb2-a799-6dbac494d49d",
   "metadata": {},
   "outputs": [],
   "source": [
    "import bagpy"
   ]
  },
  {
   "cell_type": "code",
   "execution_count": null,
   "id": "8b9f0849-f8c7-4fa0-960a-6968c6b53c14",
   "metadata": {},
   "outputs": [],
   "source": []
  },
  {
   "cell_type": "code",
   "execution_count": null,
   "id": "79409f76-e91f-4ddd-8b66-73beddac2de1",
   "metadata": {},
   "outputs": [],
   "source": []
  }
 ],
 "metadata": {
  "kernelspec": {
   "display_name": "Python 3 (ipykernel)",
   "language": "python",
   "name": "python3"
  },
  "language_info": {
   "codemirror_mode": {
    "name": "ipython",
    "version": 3
   },
   "file_extension": ".py",
   "mimetype": "text/x-python",
   "name": "python",
   "nbconvert_exporter": "python",
   "pygments_lexer": "ipython3",
   "version": "3.12.0"
  }
 },
 "nbformat": 4,
 "nbformat_minor": 5
}
